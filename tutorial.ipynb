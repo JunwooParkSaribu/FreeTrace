{
 "cells": [
  {
   "cell_type": "markdown",
   "id": "2d80b656-97ad-49d0-b62b-3531b14303aa",
   "metadata": {
    "editable": false,
    "slideshow": {
     "slide_type": ""
    },
    "tags": []
   },
   "source": [
    "# Tutorial of FreeTrace"
   ]
  },
  {
   "cell_type": "markdown",
   "id": "f63a4595-96ac-418f-832b-50216a65a739",
   "metadata": {
    "editable": false,
    "slideshow": {
     "slide_type": ""
    },
    "tags": []
   },
   "source": []
  },
  {
   "cell_type": "markdown",
   "id": "a82b7b15-79e6-44da-a71a-a65a095cc5d6",
   "metadata": {
    "editable": true,
    "slideshow": {
     "slide_type": ""
    },
    "tags": []
   },
   "source": [
    "Requirements</br>\n",
    "Linux with gpu"
   ]
  },
  {
   "cell_type": "markdown",
   "id": "503c87c5-2d29-4a03-8f7b-06233ff8ac69",
   "metadata": {
    "collapsed": true,
    "editable": true,
    "jupyter": {
     "outputs_hidden": true
    },
    "slideshow": {
     "slide_type": ""
    },
    "tags": []
   },
   "source": [
    "# FreeTrace installtion"
   ]
  },
  {
   "cell_type": "code",
   "execution_count": 31,
   "id": "f6acd86a-bab7-4844-b7aa-c4cfab10f5c4",
   "metadata": {
    "editable": false,
    "scrolled": true,
    "slideshow": {
     "slide_type": "subslide"
    },
    "tag": [
     "hide-cell"
    ],
    "tags": [
     "hide_output"
    ]
   },
   "outputs": [
    {
     "name": "stderr",
     "output_type": "stream",
     "text": [
      "2263.72s - pydevd: Sending message related to process being replaced timed-out after 5 seconds\n"
     ]
    },
    {
     "name": "stdout",
     "output_type": "stream",
     "text": [
      "Requirement already satisfied: numpy in /home/junwoo/venv/lib/python3.12/site-packages (1.26.4)\n"
     ]
    }
   ],
   "source": [
    "!pip3 install FreeTrace"
   ]
  },
  {
   "cell_type": "code",
   "execution_count": 1,
   "id": "c58bbd35-fc8b-43c1-86db-a703915b2291",
   "metadata": {
    "editable": true,
    "slideshow": {
     "slide_type": ""
    },
    "tags": []
   },
   "outputs": [
    {
     "name": "stdout",
     "output_type": "stream",
     "text": [
      "5\n"
     ]
    },
    {
     "name": "stderr",
     "output_type": "stream",
     "text": [
      "2025-01-25 22:50:58.904072: I tensorflow/core/util/port.cc:153] oneDNN custom operations are on. You may see slightly different numerical results due to floating-point round-off errors from different computation orders. To turn them off, set the environment variable `TF_ENABLE_ONEDNN_OPTS=0`.\n",
      "2025-01-25 22:50:59.138672: E external/local_xla/xla/stream_executor/cuda/cuda_fft.cc:485] Unable to register cuFFT factory: Attempting to register factory for plugin cuFFT when one has already been registered\n",
      "2025-01-25 22:50:59.227819: E external/local_xla/xla/stream_executor/cuda/cuda_dnn.cc:8454] Unable to register cuDNN factory: Attempting to register factory for plugin cuDNN when one has already been registered\n",
      "2025-01-25 22:50:59.251752: E external/local_xla/xla/stream_executor/cuda/cuda_blas.cc:1452] Unable to register cuBLAS factory: Attempting to register factory for plugin cuBLAS when one has already been registered\n",
      "2025-01-25 22:50:59.421992: I tensorflow/core/platform/cpu_feature_guard.cc:210] This TensorFlow binary is optimized to use available CPU instructions in performance-critical operations.\n",
      "To enable the following instructions: AVX2 AVX_VNNI FMA, in other operations, rebuild TensorFlow with the appropriate compiler flags.\n",
      "2025-01-25 22:50:57.953158: W tensorflow/compiler/tf2tensorrt/utils/py_utils.cc:38] TF-TRT Warning: Could not find TensorRT\n"
     ]
    },
    {
     "name": "stdout",
     "output_type": "stream",
     "text": [
      "\n",
      "******************************** OPTIONS *****************************************\n",
      "***** Cuda: Ok, Tensorflow: Ok, Tracking performs slow/complete inferences. ******\n",
      "**********************************************************************************\n",
      "\n"
     ]
    },
    {
     "name": "stderr",
     "output_type": "stream",
     "text": [
      "WARNING: All log messages before absl::InitializeLog() is called are written to STDERR\n",
      "I0000 00:00:1737841858.755434   12384 cuda_executor.cc:1001] could not open file to read NUMA node: /sys/bus/pci/devices/0000:01:00.0/numa_node\n",
      "Your kernel may have been built without NUMA support.\n",
      "I0000 00:00:1737841858.928310   12384 cuda_executor.cc:1001] could not open file to read NUMA node: /sys/bus/pci/devices/0000:01:00.0/numa_node\n",
      "Your kernel may have been built without NUMA support.\n",
      "I0000 00:00:1737841858.928421   12384 cuda_executor.cc:1001] could not open file to read NUMA node: /sys/bus/pci/devices/0000:01:00.0/numa_node\n",
      "Your kernel may have been built without NUMA support.\n",
      "I0000 00:00:1737841859.036027   12384 cuda_executor.cc:1001] could not open file to read NUMA node: /sys/bus/pci/devices/0000:01:00.0/numa_node\n",
      "Your kernel may have been built without NUMA support.\n",
      "I0000 00:00:1737841859.036083   12384 cuda_executor.cc:1001] could not open file to read NUMA node: /sys/bus/pci/devices/0000:01:00.0/numa_node\n",
      "Your kernel may have been built without NUMA support.\n",
      "I0000 00:00:1737841859.036098   12384 cuda_executor.cc:1001] could not open file to read NUMA node: /sys/bus/pci/devices/0000:01:00.0/numa_node\n",
      "Your kernel may have been built without NUMA support.\n",
      "I0000 00:00:1737841859.228918   12384 cuda_executor.cc:1001] could not open file to read NUMA node: /sys/bus/pci/devices/0000:01:00.0/numa_node\n",
      "Your kernel may have been built without NUMA support.\n",
      "I0000 00:00:1737841859.228979   12384 cuda_executor.cc:1001] could not open file to read NUMA node: /sys/bus/pci/devices/0000:01:00.0/numa_node\n",
      "Your kernel may have been built without NUMA support.\n",
      "2025-01-25 22:50:59.228988: I tensorflow/core/common_runtime/gpu/gpu_device.cc:2112] Could not identify NUMA node of platform GPU id 0, defaulting to 0.  Your kernel may not have been built with NUMA support.\n",
      "I0000 00:00:1737841859.229018   12384 cuda_executor.cc:1001] could not open file to read NUMA node: /sys/bus/pci/devices/0000:01:00.0/numa_node\n",
      "Your kernel may have been built without NUMA support.\n",
      "2025-01-25 22:50:59.230614: I tensorflow/core/common_runtime/gpu/gpu_device.cc:2021] Created device /job:localhost/replica:0/task:0/device:GPU:0 with 9558 MB memory:  -> device: 0, name: NVIDIA GeForce RTX 4070, pci bus id: 0000:01:00.0, compute capability: 8.9\n"
     ]
    },
    {
     "name": "stdout",
     "output_type": "stream",
     "text": [
      "Mean nb of molecules per frame: 18.64 molecules/frame\n"
     ]
    },
    {
     "name": "stderr",
     "output_type": "stream",
     "text": [
      "Tracking:  10%|██████▉                                                              | 10/100 [00:00<00:02, 40.47frame/s]WARNING: All log messages before absl::InitializeLog() is called are written to STDERR\n",
      "I0000 00:00:1737841865.728334   12468 service.cc:146] XLA service 0xcd183b0 initialized for platform CUDA (this does not guarantee that XLA will be used). Devices:\n",
      "I0000 00:00:1737841865.728365   12468 service.cc:154]   StreamExecutor device (0): NVIDIA GeForce RTX 4070, Compute Capability 8.9\n",
      "2025-01-25 22:51:05.775378: I tensorflow/compiler/mlir/tensorflow/utils/dump_mlir_util.cc:268] disabling MLIR crash reproducer, set env var `MLIR_CRASH_REPRODUCER_DIRECTORY` to enable.\n",
      "2025-01-25 22:51:05.960556: I external/local_xla/xla/stream_executor/cuda/cuda_dnn.cc:531] Loaded cuDNN version 8907\n",
      "I0000 00:00:1737841866.736664   12468 device_compiler.h:188] Compiled cluster using XLA!  This line is logged at most once for the lifetime of the process.\n",
      "/home/junwoo/venv/lib/python3.12/site-packages/numpy/core/fromnumeric.py:3504: RuntimeWarning: Mean of empty slice.\n",
      "  return _methods._mean(a, axis=axis, dtype=dtype,\n",
      "/home/junwoo/venv/lib/python3.12/site-packages/numpy/core/_methods.py:129: RuntimeWarning: invalid value encountered in scalar divide\n",
      "  ret = ret.dtype.type(ret / rcount)\n",
      "Tracking: 100%|████████████████████████████████████████████████████████████████████| 100/100 [00:20<00:00,  4.84frame/s]\n"
     ]
    }
   ],
   "source": [
    "import os\n",
    "import sys\n",
    "from FreeTrace import Tracking, Localization\n",
    "from FreeTrace.module.FileIO import read_parameters, initialization\n",
    "\n",
    "\n",
    "\"\"\"\n",
    "Read configuration file.\n",
    "\"\"\"\n",
    "params = read_parameters('./config.txt')\n",
    "video_name = params['localization']['VIDEO']\n",
    "OUTPUT_DIR = params['localization']['OUTPUT_DIR']\n",
    "\n",
    "\n",
    "WINSIZE = params['localization']['WINSIZE']\n",
    "THRES_ALPHA = params['localization']['THRES_ALPHA']\n",
    "DEFLATION_LOOP_IN_BACKWARD = params['localization']['DEFLATION_LOOP_IN_BACKWARD']\n",
    "SHIFT = params['localization']['SHIFT']\n",
    "SAVE_VIDEO_LOC = params['localization']['LOC_VISUALIZATION']\n",
    "LOC_GPU_AVAIL = params['localization']['GPU']\n",
    "\n",
    "TIME_FORECAST = params['tracking']['TIME_FORECAST']\n",
    "CUTOFF = params['tracking']['CUTOFF']\n",
    "SAVE_VIDEO_TRACK = params['tracking']['TRACK_VISUALIZATION']\n",
    "TRACK_GPU_AVAIL = params['tracking']['GPU']\n",
    "\n",
    "\n",
    "if __name__ == \"__main__\":\n",
    "    try:\n",
    "        if not os.path.exists(f'{OUTPUT_DIR}'):\n",
    "            os.makedirs(f'{OUTPUT_DIR}')\n",
    "        loc = False\n",
    "        track = False\n",
    "        initialization(False, verbose=False, batch=False)\n",
    "        \"\"\"\n",
    "        loc = Localization.run_process(input_video_path=video_name, output_path=OUTPUT_DIR,\n",
    "                                       window_size=WINSIZE, threshold=THRES_ALPHA,\n",
    "                                       deflation=DEFLATION_LOOP_IN_BACKWARD, shift=SHIFT,\n",
    "                                       gpu_on=LOC_GPU_AVAIL, save_video=SAVE_VIDEO_LOC, realtime_visualization=True, verbose=1, batch=False)\n",
    "        if loc:\n",
    "        \"\"\"\n",
    "        track = Tracking.run_process(input_video_path=video_name, output_path=OUTPUT_DIR,\n",
    "                                        time_forecast=TIME_FORECAST, cutoff=CUTOFF,\n",
    "                                        gpu_on=TRACK_GPU_AVAIL, save_video=SAVE_VIDEO_TRACK, realtime_visualization=True, verbose=1, batch=False)\n",
    "            \n",
    "    except Exception as e:\n",
    "        sys.exit(f'Err code:{e} on file:{video_name}')"
   ]
  },
  {
   "cell_type": "code",
   "execution_count": null,
   "id": "0104ab68-ed6f-4278-a55c-0f100bc8e9ac",
   "metadata": {
    "editable": true,
    "slideshow": {
     "slide_type": ""
    },
    "tags": []
   },
   "outputs": [],
   "source": []
  }
 ],
 "metadata": {
  "kernelspec": {
   "display_name": "Python 3 (ipykernel)",
   "language": "python",
   "name": "python3"
  },
  "language_info": {
   "codemirror_mode": {
    "name": "ipython",
    "version": 3
   },
   "file_extension": ".py",
   "mimetype": "text/x-python",
   "name": "python",
   "nbconvert_exporter": "python",
   "pygments_lexer": "ipython3",
   "version": "3.12.3"
  }
 },
 "nbformat": 4,
 "nbformat_minor": 5
}
